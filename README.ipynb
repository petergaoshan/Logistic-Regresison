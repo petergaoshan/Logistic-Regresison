{
 "cells": [
  {
   "cell_type": "markdown",
   "metadata": {},
   "source": [
    "This program is about using gradient descent and scipy to do logistic regression.\n",
    "\n",
    "The iris dataset obtained from https://gist.github.com/netj/8836201."
   ]
  },
  {
   "cell_type": "code",
   "execution_count": 122,
   "metadata": {},
   "outputs": [],
   "source": [
    "# import packages\n",
    "\n",
    "import pandas as pd\n",
    "import matplotlib.pyplot as plt\n",
    "import numpy as np\n",
    "import scipy\n",
    "\n",
    "from sklearn.model_selection import train_test_split\n",
    "from sklearn.preprocessing import normalize\n",
    "from sklearn.decomposition import PCA\n",
    "from functools import partial\n",
    "from plotting_utils import plotter_classifier"
   ]
  },
  {
   "cell_type": "markdown",
   "metadata": {},
   "source": [
    "# Glimpse at Dataset"
   ]
  },
  {
   "cell_type": "code",
   "execution_count": 123,
   "metadata": {},
   "outputs": [
    {
     "data": {
      "text/html": [
       "<div>\n",
       "<style scoped>\n",
       "    .dataframe tbody tr th:only-of-type {\n",
       "        vertical-align: middle;\n",
       "    }\n",
       "\n",
       "    .dataframe tbody tr th {\n",
       "        vertical-align: top;\n",
       "    }\n",
       "\n",
       "    .dataframe thead th {\n",
       "        text-align: right;\n",
       "    }\n",
       "</style>\n",
       "<table border=\"1\" class=\"dataframe\">\n",
       "  <thead>\n",
       "    <tr style=\"text-align: right;\">\n",
       "      <th></th>\n",
       "      <th>sepal.length</th>\n",
       "      <th>sepal.width</th>\n",
       "      <th>petal.length</th>\n",
       "      <th>petal.width</th>\n",
       "      <th>variety</th>\n",
       "    </tr>\n",
       "  </thead>\n",
       "  <tbody>\n",
       "    <tr>\n",
       "      <th>0</th>\n",
       "      <td>5.1</td>\n",
       "      <td>3.5</td>\n",
       "      <td>1.4</td>\n",
       "      <td>0.2</td>\n",
       "      <td>Setosa</td>\n",
       "    </tr>\n",
       "    <tr>\n",
       "      <th>1</th>\n",
       "      <td>4.9</td>\n",
       "      <td>3.0</td>\n",
       "      <td>1.4</td>\n",
       "      <td>0.2</td>\n",
       "      <td>Setosa</td>\n",
       "    </tr>\n",
       "    <tr>\n",
       "      <th>2</th>\n",
       "      <td>4.7</td>\n",
       "      <td>3.2</td>\n",
       "      <td>1.3</td>\n",
       "      <td>0.2</td>\n",
       "      <td>Setosa</td>\n",
       "    </tr>\n",
       "    <tr>\n",
       "      <th>3</th>\n",
       "      <td>4.6</td>\n",
       "      <td>3.1</td>\n",
       "      <td>1.5</td>\n",
       "      <td>0.2</td>\n",
       "      <td>Setosa</td>\n",
       "    </tr>\n",
       "    <tr>\n",
       "      <th>4</th>\n",
       "      <td>5.0</td>\n",
       "      <td>3.6</td>\n",
       "      <td>1.4</td>\n",
       "      <td>0.2</td>\n",
       "      <td>Setosa</td>\n",
       "    </tr>\n",
       "    <tr>\n",
       "      <th>5</th>\n",
       "      <td>5.4</td>\n",
       "      <td>3.9</td>\n",
       "      <td>1.7</td>\n",
       "      <td>0.4</td>\n",
       "      <td>Setosa</td>\n",
       "    </tr>\n",
       "  </tbody>\n",
       "</table>\n",
       "</div>"
      ],
      "text/plain": [
       "   sepal.length  sepal.width  petal.length  petal.width variety\n",
       "0           5.1          3.5           1.4          0.2  Setosa\n",
       "1           4.9          3.0           1.4          0.2  Setosa\n",
       "2           4.7          3.2           1.3          0.2  Setosa\n",
       "3           4.6          3.1           1.5          0.2  Setosa\n",
       "4           5.0          3.6           1.4          0.2  Setosa\n",
       "5           5.4          3.9           1.7          0.4  Setosa"
      ]
     },
     "execution_count": 123,
     "metadata": {},
     "output_type": "execute_result"
    }
   ],
   "source": [
    "iris = pd.read_csv('iris.csv')\n",
    "iris.iloc[:6,:]"
   ]
  },
  {
   "cell_type": "markdown",
   "metadata": {},
   "source": [
    "There are 150 observations in the dataset. Each observation has 4 continuous features corresponding to 3 possible categories of iris flower which are 'Sentosa', 'Versicolor', and 'Virginica'. Becasue there are more than 2 categories, using the Softmax function will be proper.\n",
    "\n",
    "Softmax equation:\n",
    "$$\n",
    "p(t_{nk} = 1 \\vert x_n, w) = \\frac{e^{w_k^{T} \\cdot \\phi(x_n)}}{\\sum\\limits^{K}_{l = 1}e^{w_l^{T}\\phi(x_n)}}\n",
    "$$"
   ]
  },
  {
   "cell_type": "markdown",
   "metadata": {},
   "source": [
    "$$\n",
    "\\begin{align*}\n",
    "Where~&n = n^{th} observation \\\\\n",
    "      &k = k^{th} class \\\\\n",
    "      &\\phi = basis~function \\\\\n",
    "      &x_n = features~of~n^{th}~observation \\\\\n",
    "      &w = weight~matrix~which~each~row~records~the~weight~for~each~class \\\\\n",
    "\\end{align*}\n",
    "$$"
   ]
  },
  {
   "cell_type": "markdown",
   "metadata": {},
   "source": [
    "## Softmax"
   ]
  },
  {
   "cell_type": "markdown",
   "metadata": {},
   "source": [
    "The function calculates the probability of oberservation n belongs to class k. $p(t=1 \\vert x_n, w)$ will be a matrix with n rows and k columns where the sum of each row is always 1. Our prediction will be the class with highest probability.\n",
    "\n",
    "The weights of each class could be how much that class favors each feature. Each class scores the feature by $e^{\\phi(x)}$. In the denominator, it calculates the total score rate by all classes. Score of one class divided by total score of classes gives probability.  The reason of using exponential: Firstly, the value cannot be negative, or it will give negative probabilities. Secondly, y = $e^X$ grows exponentially. Each unit increase in x generates higher amount of increase in y than y = x. By this characteristic, the correct class will be more seperable from others."
   ]
  },
  {
   "cell_type": "markdown",
   "metadata": {},
   "source": [
    "## Softmax to negative log likelihood"
   ]
  },
  {
   "cell_type": "markdown",
   "metadata": {},
   "source": [
    "$$\n",
    "\\begin{align*}\n",
    "posterior &= \\frac{prior \\cdot likelihood}{evidence} \\\\\n",
    "-log(posterior) & = -log(prior) - log(likelihood)\n",
    "\\end{align*}\n",
    "$$\n",
    "Evidence ignored since it does not depend on w, it's derivative will be 0."
   ]
  },
  {
   "cell_type": "markdown",
   "metadata": {},
   "source": [
    "Choose a Gaussian prior for the weights, which is equivalent to adding a L2 regularization.\n",
    "$$\n",
    "prior = p(w) = N(w \\vert 0, \\alpha^{-1}I) \\propto e^{\\frac{\\alpha}{2}w^{T}w}~~~~~~~~~~~\n",
    "log(p(w)) = -\\frac{\\alpha}{2}w^Tw\n",
    "$$\n",
    "Use softmax as the likelihood funciton we get:\n",
    "$$\n",
    "f(w) = \\frac{\\alpha}{2}w^Tw - \\sum\\limits_{n = 1}^{N}[\\sum\\limits_{k = 1}^{K}t_{nk}w_k^{T}\\phi(x_n)-log(\\sum\\limits_{l=1}^{K}e^{w_l^K\\phi(x_n)})]\n",
    "$$"
   ]
  },
  {
   "cell_type": "code",
   "execution_count": 124,
   "metadata": {},
   "outputs": [],
   "source": [
    "def neg_log_like(w, x, t, alpha):\n",
    "\n",
    "\tfirst_term = (alpha / 2) * np.sum(np.square(w))\n",
    "\n",
    "\tw = np.reshape(w, (t.shape[1], x.shape[1]))\n",
    "\tt_hat = np.matmul(x, w.T)\n",
    "\t\n",
    "\tin_log = np.sum(np.exp(t_hat), axis = 1)\n",
    "\tsecond_term = np.sum(t * t_hat, axis = 1) - np.log(in_log)\n",
    "\tsecond_term = np.sum(second_term)\n",
    "\t\n",
    "\tresult = np.sum(first_term) - second_term\n",
    "\t\n",
    "\treturn result"
   ]
  },
  {
   "cell_type": "markdown",
   "metadata": {},
   "source": [
    "## Calculate $\\frac{\\partial f(w)}{\\partial w_{km}}$ to do gradient descent"
   ]
  },
  {
   "cell_type": "markdown",
   "metadata": {},
   "source": [
    "$$\n",
    "\\frac{\\alpha}{2}w^Tw = \\frac{\\alpha}{2}(w_{11}^2 + w_{12}^2 ...)\n",
    "$$\n",
    "For first term, the weights other than $w_{km}$ can be cancelled.\n"
   ]
  },
  {
   "cell_type": "markdown",
   "metadata": {},
   "source": [
    "For the second term, we need the $\\phi(x_n)$ associate with $w_{km}$. $t_{nk}$ should be remained since it might be 0. In the last part, since there's a log, the whole row associated with $w_{km}$ should be contained, then $\\phi$ associated should be pulled out because of chain rule."
   ]
  },
  {
   "cell_type": "markdown",
   "metadata": {},
   "source": [
    "$$\n",
    "\\begin{aligned}\n",
    "\\frac{\\partial f(w)}{\\partial w_{km}} &= \\alpha w_{km} - \\sum\\limits_{n=1}^{N}[t_{nk}\\phi_{m}(x_{n}) - \\frac{\\phi_{m}(x_{n})e^{w_{k}^{T}\\phi(x_{n})}}{\\sum\\limits_{l=1}^{K}e^{w_{l}^{T}\\phi(x_{n})}}]\n",
    "                                                \n",
    "\\end{aligned}\n",
    "$$"
   ]
  },
  {
   "cell_type": "code",
   "execution_count": 125,
   "metadata": {},
   "outputs": [],
   "source": [
    "def grad_neg_log_like(w, x, t, alpha):\n",
    "\n",
    "\tw = np.reshape(w, (t.shape[1], x.shape[1]))\n",
    "\t\n",
    "\talpha_w = alpha * w\n",
    "\n",
    "\ttT_x = np.matmul(t.T, x)\n",
    "\n",
    "\tt_hat = np.matmul(x, w.T)\n",
    "\texp_t_hat = np.exp(t_hat)\n",
    "\tgrad_w = np.zeros((w.shape[0], w.shape[1]))\n",
    "\n",
    "\tlower = np.sum(np.exp(t_hat), axis = 1)\n",
    "\n",
    "\tfor k in range(w.shape[0]):\n",
    "\n",
    "\t\tfor m in range(w.shape[1]):\n",
    "\n",
    "\n",
    "\t\t\tconst = tT_x[k,m]\n",
    "\n",
    "\t\t\tupper = x[:, m] * exp_t_hat[:,k]\n",
    "\t\t\t\n",
    "\t\t\tgrad_w[k,m] = alpha_w[k,m] - (const - np.sum(upper / lower))\n",
    "\t\t\tgrad_w[k,m] = alpha_w[k,m] - (const - np.sum(upper/lower))\n",
    "\t\t\t\n",
    "\tresult = -1 * (alpha * w - grad_w)\n",
    "\tresult = np.reshape(result, (1, result.shape[0] * result.shape[1]))\n",
    "\t\n",
    "\treturn result"
   ]
  },
  {
   "cell_type": "markdown",
   "metadata": {},
   "source": [
    "## Split the data into train set and test set"
   ]
  },
  {
   "cell_type": "code",
   "execution_count": 126,
   "metadata": {},
   "outputs": [],
   "source": [
    "X = iris.iloc[:, :-1].to_numpy()\n",
    "Y = iris.iloc[:,-1]\n",
    "\n",
    "x_train, x_test, y_train, y_test = train_test_split(X, Y, test_size = 0.33)"
   ]
  },
  {
   "cell_type": "markdown",
   "metadata": {},
   "source": [
    "## Since we will visualize the data, reduce the dimension to 2"
   ]
  },
  {
   "cell_type": "markdown",
   "metadata": {},
   "source": [
    "Firstly, normalized each column in trainset be their mean and sigma. The same means and sigmas will be use to normalize test set."
   ]
  },
  {
   "cell_type": "code",
   "execution_count": 127,
   "metadata": {},
   "outputs": [],
   "source": [
    "col_mean = x_train.mean(axis = 0)\n",
    "col_sigma = np.sqrt(x_train.var(axis = 0))\n",
    "\n",
    "normalized_x_train = (x_train - col_mean) / col_sigma"
   ]
  },
  {
   "cell_type": "markdown",
   "metadata": {},
   "source": [
    "Then do the dimensionality reduciton with PCA."
   ]
  },
  {
   "cell_type": "code",
   "execution_count": 128,
   "metadata": {},
   "outputs": [
    {
     "data": {
      "text/plain": [
       "(100, 2)"
      ]
     },
     "execution_count": 128,
     "metadata": {},
     "output_type": "execute_result"
    }
   ],
   "source": [
    "reduced_x_train = PCA(n_components = 2).fit_transform(normalized_x_train)\n",
    "reduced_x_train.shape"
   ]
  },
  {
   "cell_type": "markdown",
   "metadata": {},
   "source": [
    "This is how the distribution of the classes look."
   ]
  },
  {
   "cell_type": "code",
   "execution_count": 129,
   "metadata": {},
   "outputs": [
    {
     "data": {
      "text/plain": [
       "<matplotlib.collections.PathCollection at 0x7ff203d98e20>"
      ]
     },
     "execution_count": 129,
     "metadata": {},
     "output_type": "execute_result"
    },
    {
     "data": {
      "image/png": "[encoded data removed]",
      "text/plain": [
       "<Figure size 432x288 with 1 Axes>"
      ]
     },
     "metadata": {
      "needs_background": "light"
     },
     "output_type": "display_data"
    }
   ],
   "source": [
    "plt.scatter(x = reduced_x_train[:,0], y = reduced_x_train[:,1], c = y_train.factorize()[0])"
   ]
  },
  {
   "cell_type": "markdown",
   "metadata": {},
   "source": [
    "# Basis functions"
   ]
  },
  {
   "cell_type": "markdown",
   "metadata": {},
   "source": [
    "There are 3 candidate basis functions.\n",
    "\n",
    "1. Linear: Insert 1 into all feature vectors.\n",
    "2. Quadratic: Insert the squares of original features vector to the linear basis function.\n",
    "3. General: Insert the interactions of original features vectors to the quadratic basis function."
   ]
  },
  {
   "cell_type": "code",
   "execution_count": 130,
   "metadata": {},
   "outputs": [],
   "source": [
    "def phi_linear(x):\n",
    "\n",
    "    return np.insert(x, 0, 1, axis = 1)\n",
    "\n",
    "def phi_quadratic(x):\n",
    "\n",
    "    return np.concatenate((phi_linear(x), np.square(x)), axis = 1)\n",
    "\n",
    "def phi_general(x):\n",
    "\n",
    "    combinations = phi_quadratic(x)\n",
    "\n",
    "    for i in range(0, (x.shape[1] - 1)):\n",
    "\n",
    "        tail = x[:, i + 1:]\n",
    "\n",
    "        for j in range(tail.shape[1]):\n",
    "\n",
    "            new_column = x[:, i] * tail[:, j]\n",
    "\n",
    "            new_column = np.reshape(new_column, (x.shape[0] ,1))\n",
    "\n",
    "            combinations = np.concatenate((combinations, new_column), axis = 1)\n",
    "\n",
    "    return combinations"
   ]
  },
  {
   "cell_type": "code",
   "execution_count": 131,
   "metadata": {},
   "outputs": [
    {
     "data": {
      "text/plain": [
       "array([[0, 1, 0],\n",
       "       [1, 0, 0],\n",
       "       [0, 1, 0],\n",
       "       [1, 0, 0],\n",
       "       [0, 0, 1]], dtype=uint8)"
      ]
     },
     "execution_count": 131,
     "metadata": {},
     "output_type": "execute_result"
    }
   ],
   "source": [
    "feed_y_train = pd.get_dummies(y_train).to_numpy()\n",
    "feed_y_train[:5,:]"
   ]
  },
  {
   "cell_type": "markdown",
   "metadata": {},
   "source": [
    "# Optimize with scipy"
   ]
  },
  {
   "cell_type": "markdown",
   "metadata": {},
   "source": [
    "## Using Linear basis"
   ]
  },
  {
   "cell_type": "code",
   "execution_count": 132,
   "metadata": {},
   "outputs": [
    {
     "data": {
      "image/png": "[encoded data removed]",
      "text/plain": [
       "<Figure size 432x288 with 1 Axes>"
      ]
     },
     "metadata": {
      "needs_background": "light"
     },
     "output_type": "display_data"
    }
   ],
   "source": [
    "\n",
    "alpha = 1e-6\n",
    "\n",
    "w = np.zeros((feed_y_train.shape[1], phi_linear(reduced_x_train).shape[1]))\n",
    "\n",
    "loss_func = partial(neg_log_like, x = phi_linear(reduced_x_train), t = feed_y_train, alpha = alpha)\n",
    "grad_func = partial(grad_neg_log_like, x = phi_linear(reduced_x_train), t = feed_y_train, alpha = alpha)\n",
    "\n",
    "options = dict()\n",
    "options[\"maxiter\"] = 20000\n",
    "options[\"ftol\"] = 1e-7\n",
    "results = scipy.optimize.minimize(fun = loss_func, x0 = w, jac = grad_func, method = \"L-BFGS-B\", options = options)\n",
    "assert(results.success)\n",
    "w_hat_linear = results.x\n",
    "w_hat_linear = np.reshape(w_hat_linear, (feed_y_train.shape[1], phi_linear(reduced_x_train).shape[1]))\n",
    "\n",
    "plotter_classifier(w_hat_linear.T, phi_linear, reduced_x_train, np.argmax(feed_y_train, axis = 1), title=\"Iris Classification With Linear Basis\")\n",
    "plt.show()"
   ]
  },
  {
   "cell_type": "markdown",
   "metadata": {},
   "source": [
    "## Using quadratic basis"
   ]
  },
  {
   "cell_type": "code",
   "execution_count": 133,
   "metadata": {},
   "outputs": [
    {
     "data": {
      "image/png": "[encoded data removed]",
      "text/plain": [
       "<Figure size 432x288 with 1 Axes>"
      ]
     },
     "metadata": {
      "needs_background": "light"
     },
     "output_type": "display_data"
    }
   ],
   "source": [
    "w = np.zeros((feed_y_train.shape[1], phi_quadratic(reduced_x_train).shape[1]))\n",
    "\n",
    "loss_func = partial(neg_log_like, x = phi_quadratic(reduced_x_train), t = feed_y_train, alpha = alpha)\n",
    "grad_func = partial(grad_neg_log_like, x = phi_quadratic(reduced_x_train), t = feed_y_train, alpha = alpha)\n",
    "\n",
    "options = dict()\n",
    "options[\"maxiter\"] = 20000\n",
    "options[\"ftol\"] = 1e-7\n",
    "results = scipy.optimize.minimize(fun = loss_func, x0 = w, jac = grad_func, method = \"L-BFGS-B\", options = options)\n",
    "assert(results.success)\n",
    "w_hat_quadratic = results.x\n",
    "w_hat_quadratic = np.reshape(w_hat_quadratic, (feed_y_train.shape[1], phi_quadratic(reduced_x_train).shape[1]))\n",
    "\n",
    "plotter_classifier(w_hat_quadratic.T, phi_quadratic, reduced_x_train, np.argmax(feed_y_train, axis = 1), title=\"Iris Classification With Quadratic Basis\")\n",
    "plt.show()"
   ]
  },
  {
   "cell_type": "markdown",
   "metadata": {},
   "source": [
    "## Using general basis"
   ]
  },
  {
   "cell_type": "code",
   "execution_count": 134,
   "metadata": {},
   "outputs": [
    {
     "data": {
      "image/png": "[encoded data removed]",
      "text/plain": [
       "<Figure size 432x288 with 1 Axes>"
      ]
     },
     "metadata": {
      "needs_background": "light"
     },
     "output_type": "display_data"
    }
   ],
   "source": [
    "w = np.zeros((feed_y_train.shape[1], phi_general(reduced_x_train).shape[1]))\n",
    "\n",
    "loss_func = partial(neg_log_like, x = phi_general(reduced_x_train), t = feed_y_train, alpha = alpha)\n",
    "grad_func = partial(grad_neg_log_like, x = phi_general(reduced_x_train), t = feed_y_train, alpha = alpha)\n",
    "\n",
    "options = dict()\n",
    "options[\"maxiter\"] = 20000\n",
    "options[\"ftol\"] = 1e-7\n",
    "results = scipy.optimize.minimize(fun = loss_func, x0 = w, jac = grad_func, method = \"L-BFGS-B\", options = options)\n",
    "assert(results.success)\n",
    "w_hat_general = results.x\n",
    "w_hat_general = np.reshape(w_hat_general, (feed_y_train.shape[1], phi_general(reduced_x_train).shape[1]))\n",
    "\n",
    "plotter_classifier(w_hat_general.T, phi_general, reduced_x_train, np.argmax(feed_y_train, axis = 1), title=\"Iris Classification With General Basis\")\n",
    "plt.show()"
   ]
  },
  {
   "cell_type": "markdown",
   "metadata": {},
   "source": [
    "We can see that with different basis functions, the classifier is able to create different decision boundaries. For linear basis function, the boundaries are all straight. As the quadratic and general basis function is used, the decision boundary start to get more curves. In practice, the reasonable features could be identified during EDA."
   ]
  },
  {
   "cell_type": "markdown",
   "metadata": {},
   "source": [
    "# Test on test set"
   ]
  },
  {
   "cell_type": "markdown",
   "metadata": {},
   "source": [
    "Do the same thing. Normalize then dimensinality reduction.\n",
    "\n",
    "Note: becasue in reality we don't have the observation for whole population, we should normalize the test set with means and standard deviations of the training set."
   ]
  },
  {
   "cell_type": "code",
   "execution_count": 135,
   "metadata": {},
   "outputs": [
    {
     "data": {
      "text/plain": [
       "<matplotlib.collections.PathCollection at 0x7ff219e51f40>"
      ]
     },
     "execution_count": 135,
     "metadata": {},
     "output_type": "execute_result"
    },
    {
     "data": {
      "image/png": "[encoded data removed]",
      "text/plain": [
       "<Figure size 432x288 with 1 Axes>"
      ]
     },
     "metadata": {
      "needs_background": "light"
     },
     "output_type": "display_data"
    }
   ],
   "source": [
    "normalized_x_test = (x_test - col_mean) / col_sigma\n",
    "reduced_x_test = PCA(n_components = 2).fit_transform(normalized_x_test)\n",
    "\n",
    "y_test = np.argmax(pd.get_dummies(y_test).to_numpy(), axis = 1)\n",
    "plt.scatter(reduced_x_test[:,0], reduced_x_test[:,1], c = y_test)"
   ]
  },
  {
   "cell_type": "code",
   "execution_count": 136,
   "metadata": {},
   "outputs": [
    {
     "name": "stdout",
     "output_type": "stream",
     "text": [
      "The accuracy of using linear basis is: 0.74\n",
      "The accuracy of using quadratic basis is: 0.86\n",
      "The accuracy of using general basis is: 0.84\n"
     ]
    }
   ],
   "source": [
    "linear_pred = np.argmax(np.matmul(phi_linear(reduced_x_test), w_hat_linear.T), axis = 1) == y_test\n",
    "print('The accuracy of using linear basis is: ' + str(linear_pred.sum() / len(linear_pred)))\n",
    "\n",
    "quadratic_pred = np.argmax(np.matmul(phi_quadratic(reduced_x_test), w_hat_quadratic.T), axis = 1) == y_test\n",
    "print('The accuracy of using quadratic basis is: ' + str(quadratic_pred.sum() / len(quadratic_pred)))\n",
    "\n",
    "general_pred = np.argmax(np.matmul(phi_general(reduced_x_test), w_hat_general.T), axis = 1) == y_test\n",
    "print('The accuracy of using general basis is: ' + str(general_pred.sum() / len(general_pred)))"
   ]
  }
 ],
 "metadata": {
  "interpreter": {
   "hash": "aee8b7b246df8f9039afb4144a1f6fd8d2ca17a180786b69acc140d282b71a49"
  },
  "kernelspec": {
   "display_name": "Python 3.10.1 64-bit",
   "language": "python",
   "name": "python3"
  },
  "language_info": {
   "codemirror_mode": {
    "name": "ipython",
    "version": 3
   },
   "file_extension": ".py",
   "mimetype": "text/x-python",
   "name": "python",
   "nbconvert_exporter": "python",
   "pygments_lexer": "ipython3",
   "version": "3.9.7"
  },
  "orig_nbformat": 4
 },
 "nbformat": 4,
 "nbformat_minor": 2
}
